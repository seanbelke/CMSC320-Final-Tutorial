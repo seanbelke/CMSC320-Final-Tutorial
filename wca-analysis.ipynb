{
 "cells": [
  {
   "cell_type": "markdown",
   "metadata": {},
   "source": [
    "# Analyzing Countries' Relative Event Performance in the WCA\n",
    "\n",
    "The [Rubik's Cube](https://www.smithsonianmag.com/innovation/brief-history-rubiks-cube-180975911/) is one of the most popular and best-selling toys in the history of the world.  Invented in 1974 by Hungarian architect Erno Rubik, the cube has fascinated minds and captivated enthusiasts for decades.  It didn't take long for a competitive community surrounding the cube to develop, along with an officiating organization, the World Cube Association (WCA).  The first official WCA competition was the World Championship held in 1982 in Budapest, Hungary.  [Minh Thai](https://www.speedsolving.com/wiki/index.php/Minh_Thai) won the competition, with his fastest solve coming in at 22.95 seconds.\n",
    "\n",
    "Speedcubing has come quite a long way since the original 1982 world championship.  These days, a 22 second solve wouldn't get you past the first round in a local competition, let alone a world championship.  Countless advancements have been made in speedsolving methods, perhaps most notably the development and refinement of the [CFOP or Fridrich Method](https://www.rubiks.com/en-us/blog/how-to-solve-the-rubiks-cube-fridrich-method-cfop-stage-1), which is by far the most widely used 3x3 speedsolving method today.  \n",
    "\n",
    "Speedcubing has expanded in many other ways as well.  While the original world championship only had the 3x3x3 Rubik's Cube, today the WCA recognizes 17 different events.  Some of them are straightforward variations on the 3x3x3 Rubik's cube, such as the smaller 2x2x2 Rubik's Cube, or some larger cubes (up to 7x7x7).  Some other events that the WCA recognizes include: \n",
    "- [3x3x3 One-Handed](https://www.youtube.com/watch?v=LvFtz4QAP5g)\n",
    "- [3x3x3 Blindfolded](https://www.youtube.com/watch?v=MJew86mY3wY)\n",
    "- [Pyraminx](https://www.youtube.com/watch?v=buod0m1u-qU)\n",
    "- [Skewb](https://www.youtube.com/watch?v=p-b2PW9CQho)\n",
    "- [Square-1](https://www.youtube.com/watch?v=4LSLK_CGIus)\n",
    "\n",
    "The three of us have been speedcubing for at least 7 years each, and became deeply involved in the speedcubing community for quite some time.  One observation that we made over the years is that certain events seemed to be more popular in certain countries.  The most notable example of this that I can recall was the popularity of Skewb in Poland.  For example, back in 2017, the top 3 skewb average results in the world were all from [Polish cubers](https://www.worldcubeassociation.org/results/rankings/skewb/average?years=until+2017).  It's entirely possible that this is mostly just a coincidence.  But this leads into what we will be investigating in this project.  We wish to test the strength of the connection between the events that a cuber ranks the highest in and competes the most in with their country of residence.  Are there other subtle relationships between certain countries and certain events?  And finally, we will use machine learning to learn a model that will predict the most likely country of residence of a particular cuber based on (A) the events that he/she competes in most frequently, and (B) the events that he/she ranks the highest in.  Hopefully, we will be able to predict their country of residence with a better accuracy than a random guess would yield.  \n",
    "\n"
   ]
  },
  {
   "cell_type": "markdown",
   "metadata": {},
   "source": [
    "### Obtaining Data\n",
    "\n",
    "If you wish to follow along with this tutorial, start by creating a working directory to hold the WCA data and your Jupyter Notebook.\n",
    "\n",
    "The WCA's data can be downloaded [here](https://www.worldcubeassociation.org/results/misc/export.html).  Click on the link for the TSV zip file, download it, and then extract the files to some folder (not your working directory).  Inside the extracted folder there are numerous files, most of which we won't need.  Move the following files into your working directory:\n",
    "- WCA_export_Persons\n",
    "- WCA_export_RanksAverage\n",
    "- WCA_export_RanksSingle\n",
    "- WCA_export_Results\n",
    "\n",
    "At this point you should also create your Jupyter Notebook (in the same directory).\n",
    "\n",
    "The data that we need to use for this analysis is not all in the same file, so we will need to create a few separate dataframes and then merge and wrangle them a bit to get them in the format that we want.  "
   ]
  },
  {
   "cell_type": "markdown",
   "metadata": {},
   "source": [
    "### Warming Up\n",
    "\n",
    "While most people have heard of the Rubik's Cube, most have not attended a WCA competition, and likely do not know how these competitions work.  So before jumping into the heart of our country-based analysis, let's get our hands dirty with some of this data.  This will familiarize the reader with the dataset, and will provide an opportunity to explain some aspects of cubing that are relevant to our analysis.  \n",
    "\n",
    "To begin, let's load in the RanksAverage and RanksSingle datasets and then wrangle them into a useful form.  "
   ]
  },
  {
   "cell_type": "code",
   "execution_count": 180,
   "metadata": {},
   "outputs": [
    {
     "name": "stdout",
     "output_type": "stream",
     "text": [
      "Averages: \n",
      "      personId eventId  best  worldRank  continentRank  countryRank\n",
      "0  2018KHAN28     222   105          1              1            1\n",
      "1  2013EGDA02     222   121          2              1            1\n",
      "2  2012CALL01     222   123          3              2            2\n",
      "3  2016LIJI05     222   125          4              1            1\n",
      "4  2012PATE01     222   127          5              2            1\n",
      "\n",
      "Singles: \n",
      "      personId eventId  best  worldRank  continentRank  countryRank\n",
      "0  2014CZAP01     222    49          1              1            1\n",
      "1  2017AGGA01     222    51          2              1            1\n",
      "2  2014RZEW01     222    52          3              2            2\n",
      "3  2015ZUBO01     222    52          3              2            2\n",
      "4  2016JONE04     222    53          5              1            1\n"
     ]
    }
   ],
   "source": [
    "import numpy as np\n",
    "import pandas as pd\n",
    "import seaborn as sns\n",
    "import matplotlib.pyplot as plt\n",
    "import statsmodels.formula.api as smf\n",
    "\n",
    "# Note: the low_memory parameter is critical here.  \n",
    "# Without it, we would have inconsistencies in our datatypes, which would require a bit more wrangling to resolve.\n",
    "df_average = pd.read_csv(\"WCA_export_RanksAverage.tsv\", sep = '\\t', low_memory=False)\n",
    "df_single = pd.read_csv(\"WCA_export_RanksSingle.tsv\", sep = '\\t', low_memory=False)\n",
    "\n",
    "print(\"Averages: \\n\", df_average.head())\n",
    "print(\"\\nSingles: \\n\", df_single.head())"
   ]
  },
  {
   "cell_type": "markdown",
   "metadata": {},
   "source": [
    "Let's pause here to sort through what we're looking at.\n",
    "\n",
    "How do we interpret one of these rows?  Let's interpret the first row in each table.  \n",
    "- Averages table: The competitor with the WCA ID 2018KHAN28 ([Zayn Khanani](https://www.worldcubeassociation.org/persons/2018KHAN28)) has a personal best official 2x2x2 average of 1.05 seconds.  This is ranked number 1 in the world (and obviously, number 1 in the continent and country as well).  \n",
    "- Singles table: The competitor with the WCA ID 2014CZAP01 ([Maciej Czapiewski](https://www.worldcubeassociation.org/persons/2014CZAP01)) has a personal best official 2x2x2 single of 0.49 seconds.  This is ranked number 1 in the world (and obviously, number 1 in the continent and country as well).\n",
    "\n",
    "A competitor's best single is exactly as you would expect - it is the fastest solve they have even completed in an official competition.  The average is a little more complicated.  For most events, such as 2x2x2 through 5x5x5, competitors complete 5 solves for an average.  The best and worst solves are dropped off, and the mean of the middle 3 is calculated and recorded as their \"average of 5.\"  For some other events however, such as 6x6x6 and 7x7x7, competitors only complete 3 solves, and their average is computed as the mean of those three times.  So since the top of the ranks table has 2x2x2 results, we're looking at the best average of 5 that these competitors has completed in competition.  \n",
    "\n",
    "The reader may notice that the times are given in centiseconds (e.g., 49 for 0.49 seconds).  We'd like to replace these with their value in seconds, as a float.  We'll also drop a few events that are not recognized anymore, drop continental and country ranks entirely, and then merge these two into a single dataframe.  "
   ]
  },
  {
   "cell_type": "code",
   "execution_count": 181,
   "metadata": {},
   "outputs": [],
   "source": [
    "df = pd.merge(df_single, df_average, how='right', on=['personId', 'eventId'])\n",
    "\n",
    "# rename columns to more descriptive names after the merge\n",
    "df.rename({'best_x': 'best_single', 'worldRank_x': 'worldRank_single', 'continentRank_x': 'continentRank_single', \n",
    "           'countryRank_x': 'countryRank_single', 'best_y': 'best_average', 'worldRank_y': 'worldRank_average',\n",
    "           'continentRank_y': 'continentRank_average', 'countryRank_y': 'countryRank_average'}, axis = 1, inplace = True)\n",
    "\n",
    "# scale the times to what they actually are (by default, times like 0.49 seconds were recorded as 49)\n",
    "df['best_single'] = np.float64(df['best_single'] / 100.0)\n",
    "df['best_average'] = np.float64(df['best_average'] / 100.0)\n",
    "\n",
    "# drop continental and country ranks since we don't need them for our analysis (we'll just focus on world rankings)\n",
    "df.drop(['continentRank_single', 'countryRank_single', 'continentRank_average', 'countryRank_average'], axis = 1, inplace=True)\n",
    "\n",
    "# Magic (eventId magic) and Master Magic (eventId mmagic) are old events that are not recognized anymore, so we drop them.\n",
    "df.drop(df[df['eventId'] == 'magic'].index, inplace=True)\n",
    "df.drop(df[df['eventId'] == 'mmagic'].index, inplace=True)"
   ]
  },
  {
   "cell_type": "markdown",
   "metadata": {},
   "source": [
    "So what analysis could we do with just this information alone?  One thing we could examine is the relationship between cubers' best singles and averages for different events.  Let's start by making a scatterplot (along with a line of best fit) for the top 200 competitors (based on average) for a few different events to see if we notice any disparities.  "
   ]
  },
  {
   "cell_type": "code",
   "execution_count": 182,
   "metadata": {},
   "outputs": [
    {
     "data": {
      "image/png": "[encoded data removed]",
      "text/plain": [
       "<Figure size 432x288 with 1 Axes>"
      ]
     },
     "metadata": {
      "needs_background": "light"
     },
     "output_type": "display_data"
    },
    {
     "data": {
      "image/png": "[encoded data removed]",
      "text/plain": [
       "<Figure size 432x288 with 1 Axes>"
      ]
     },
     "metadata": {
      "needs_background": "light"
     },
     "output_type": "display_data"
    },
    {
     "data": {
      "image/png": "[encoded data removed]",
      "text/plain": [
       "<Figure size 432x288 with 1 Axes>"
      ]
     },
     "metadata": {
      "needs_background": "light"
     },
     "output_type": "display_data"
    }
   ],
   "source": [
    "def plot_event(sample_data, event_name):\n",
    "    # plot their PB single (x-axis) vs. their PB average (y-axis)\n",
    "    ax = sns.scatterplot(data = sample_data, x = 'best_single', y = 'best_average')\n",
    "\n",
    "    # plot a line of best fit for the data\n",
    "    sns.regplot(ax = ax, data = sample_data, x = 'best_single', y = 'best_average')\n",
    "\n",
    "    ax.set_xlabel('Best Single')\n",
    "    ax.set_ylabel('Best Average')\n",
    "    ax.set_title('PB Single vs. Average for ' + event_name);\n",
    "\n",
    "plot_event(df[df['eventId'] == '777'][0:200], \"7x7x7\")\n",
    "plt.figure()\n",
    "plot_event(df[df['eventId'] == 'skewb'][0:200], \"Skewb\")\n",
    "plt.figure()\n",
    "plot_event(df[df['eventId'] == '333bf'][0:200], \"3x3x3 Blindfolded\")"
   ]
  },
  {
   "cell_type": "markdown",
   "metadata": {},
   "source": [
    "The 7x7x7 data certainly looks to fit the line the best, and the other two each have a distinctness to their \"shapes\".  I think the most interesting aspect of these 3 plots is the upward bulge in the 3x3x3 blindfolded plot.  The 3x3x3 blindfolded event uses a mean of 3 instead of average of 5.  However, this means that none of the solves are dropped, so if any one of your solves is a DNF (did not finish), which happens quite often in blindfolded events due to mistakes in memorization of the cube, your entire average will not count.  Because of this, in competition people will go for the fastest possible single most of the time.  This leads to a lot of DNF averages, but every once in a while a competitor will get a very fast single.  Occasionally, a fast blind solver may decide to play it safe for one round and specifically try to get a complete mean of 3.  I think that this is why we see the data spreading out a bit over the regression line - cubers that are purposefully trying to go slower for a better chance of solving the cube in order to get a mean, after they've already gotten a really good single.  "
   ]
  },
  {
   "cell_type": "markdown",
   "metadata": {},
   "source": [
    "Hopefully that small introduction to the data was helpful and you are now more familiar with the WCA and Rubik's Cube Competitions.  Now let's shift gears to the main part of our analysis - examining the relationship between countries and events."
   ]
  },
  {
   "cell_type": "markdown",
   "metadata": {},
   "source": [
    "### Machine Learning Country Classification"
   ]
  },
  {
   "cell_type": "code",
   "execution_count": 227,
   "metadata": {},
   "outputs": [
    {
     "data": {
      "text/html": [
       "<div>\n",
       "<style scoped>\n",
       "    .dataframe tbody tr th:only-of-type {\n",
       "        vertical-align: middle;\n",
       "    }\n",
       "\n",
       "    .dataframe tbody tr th {\n",
       "        vertical-align: top;\n",
       "    }\n",
       "\n",
       "    .dataframe thead th {\n",
       "        text-align: right;\n",
       "    }\n",
       "</style>\n",
       "<table border=\"1\" class=\"dataframe\">\n",
       "  <thead>\n",
       "    <tr style=\"text-align: right;\">\n",
       "      <th></th>\n",
       "      <th>222</th>\n",
       "      <th>333</th>\n",
       "      <th>333bf</th>\n",
       "      <th>333fm</th>\n",
       "      <th>333ft</th>\n",
       "      <th>333oh</th>\n",
       "      <th>444</th>\n",
       "      <th>444bf</th>\n",
       "      <th>555</th>\n",
       "      <th>555bf</th>\n",
       "      <th>666</th>\n",
       "      <th>777</th>\n",
       "      <th>clock</th>\n",
       "      <th>minx</th>\n",
       "      <th>pyram</th>\n",
       "      <th>skewb</th>\n",
       "      <th>sq1</th>\n",
       "      <th>countryId</th>\n",
       "    </tr>\n",
       "    <tr>\n",
       "      <th>id</th>\n",
       "      <th></th>\n",
       "      <th></th>\n",
       "      <th></th>\n",
       "      <th></th>\n",
       "      <th></th>\n",
       "      <th></th>\n",
       "      <th></th>\n",
       "      <th></th>\n",
       "      <th></th>\n",
       "      <th></th>\n",
       "      <th></th>\n",
       "      <th></th>\n",
       "      <th></th>\n",
       "      <th></th>\n",
       "      <th></th>\n",
       "      <th></th>\n",
       "      <th></th>\n",
       "      <th></th>\n",
       "    </tr>\n",
       "  </thead>\n",
       "  <tbody>\n",
       "    <tr>\n",
       "      <th>2018BALA25</th>\n",
       "      <td>0.172118</td>\n",
       "      <td>0.124640</td>\n",
       "      <td>NaN</td>\n",
       "      <td>NaN</td>\n",
       "      <td>NaN</td>\n",
       "      <td>0.451401</td>\n",
       "      <td>0.264353</td>\n",
       "      <td>NaN</td>\n",
       "      <td>0.487962</td>\n",
       "      <td>NaN</td>\n",
       "      <td>NaN</td>\n",
       "      <td>NaN</td>\n",
       "      <td>NaN</td>\n",
       "      <td>0.307751</td>\n",
       "      <td>0.208681</td>\n",
       "      <td>NaN</td>\n",
       "      <td>NaN</td>\n",
       "      <td>Romania</td>\n",
       "    </tr>\n",
       "    <tr>\n",
       "      <th>2017CADI02</th>\n",
       "      <td>0.175818</td>\n",
       "      <td>0.021964</td>\n",
       "      <td>NaN</td>\n",
       "      <td>NaN</td>\n",
       "      <td>NaN</td>\n",
       "      <td>0.342040</td>\n",
       "      <td>0.016976</td>\n",
       "      <td>NaN</td>\n",
       "      <td>0.051920</td>\n",
       "      <td>NaN</td>\n",
       "      <td>0.289294</td>\n",
       "      <td>NaN</td>\n",
       "      <td>NaN</td>\n",
       "      <td>NaN</td>\n",
       "      <td>NaN</td>\n",
       "      <td>NaN</td>\n",
       "      <td>NaN</td>\n",
       "      <td>Chile</td>\n",
       "    </tr>\n",
       "    <tr>\n",
       "      <th>2015MOWE01</th>\n",
       "      <td>0.177996</td>\n",
       "      <td>0.265347</td>\n",
       "      <td>NaN</td>\n",
       "      <td>NaN</td>\n",
       "      <td>NaN</td>\n",
       "      <td>NaN</td>\n",
       "      <td>0.692142</td>\n",
       "      <td>NaN</td>\n",
       "      <td>NaN</td>\n",
       "      <td>NaN</td>\n",
       "      <td>NaN</td>\n",
       "      <td>NaN</td>\n",
       "      <td>NaN</td>\n",
       "      <td>NaN</td>\n",
       "      <td>0.445457</td>\n",
       "      <td>0.430252</td>\n",
       "      <td>NaN</td>\n",
       "      <td>USA</td>\n",
       "    </tr>\n",
       "    <tr>\n",
       "      <th>2016IVAN02</th>\n",
       "      <td>NaN</td>\n",
       "      <td>0.944905</td>\n",
       "      <td>NaN</td>\n",
       "      <td>NaN</td>\n",
       "      <td>NaN</td>\n",
       "      <td>NaN</td>\n",
       "      <td>NaN</td>\n",
       "      <td>NaN</td>\n",
       "      <td>NaN</td>\n",
       "      <td>NaN</td>\n",
       "      <td>NaN</td>\n",
       "      <td>NaN</td>\n",
       "      <td>NaN</td>\n",
       "      <td>NaN</td>\n",
       "      <td>NaN</td>\n",
       "      <td>NaN</td>\n",
       "      <td>NaN</td>\n",
       "      <td>Ukraine</td>\n",
       "    </tr>\n",
       "    <tr>\n",
       "      <th>2016YANG30</th>\n",
       "      <td>0.298283</td>\n",
       "      <td>0.339963</td>\n",
       "      <td>NaN</td>\n",
       "      <td>NaN</td>\n",
       "      <td>NaN</td>\n",
       "      <td>NaN</td>\n",
       "      <td>NaN</td>\n",
       "      <td>NaN</td>\n",
       "      <td>NaN</td>\n",
       "      <td>NaN</td>\n",
       "      <td>NaN</td>\n",
       "      <td>NaN</td>\n",
       "      <td>NaN</td>\n",
       "      <td>NaN</td>\n",
       "      <td>0.608866</td>\n",
       "      <td>0.853886</td>\n",
       "      <td>NaN</td>\n",
       "      <td>USA</td>\n",
       "    </tr>\n",
       "    <tr>\n",
       "      <th>2015ZHAN45</th>\n",
       "      <td>0.662984</td>\n",
       "      <td>0.356692</td>\n",
       "      <td>NaN</td>\n",
       "      <td>NaN</td>\n",
       "      <td>NaN</td>\n",
       "      <td>NaN</td>\n",
       "      <td>NaN</td>\n",
       "      <td>NaN</td>\n",
       "      <td>NaN</td>\n",
       "      <td>NaN</td>\n",
       "      <td>NaN</td>\n",
       "      <td>NaN</td>\n",
       "      <td>NaN</td>\n",
       "      <td>NaN</td>\n",
       "      <td>NaN</td>\n",
       "      <td>NaN</td>\n",
       "      <td>NaN</td>\n",
       "      <td>China</td>\n",
       "    </tr>\n",
       "    <tr>\n",
       "      <th>2016MOSQ02</th>\n",
       "      <td>0.787486</td>\n",
       "      <td>0.520886</td>\n",
       "      <td>NaN</td>\n",
       "      <td>NaN</td>\n",
       "      <td>NaN</td>\n",
       "      <td>NaN</td>\n",
       "      <td>NaN</td>\n",
       "      <td>NaN</td>\n",
       "      <td>NaN</td>\n",
       "      <td>NaN</td>\n",
       "      <td>NaN</td>\n",
       "      <td>NaN</td>\n",
       "      <td>NaN</td>\n",
       "      <td>NaN</td>\n",
       "      <td>NaN</td>\n",
       "      <td>NaN</td>\n",
       "      <td>NaN</td>\n",
       "      <td>Colombia</td>\n",
       "    </tr>\n",
       "    <tr>\n",
       "      <th>2015KSIA01</th>\n",
       "      <td>NaN</td>\n",
       "      <td>0.872343</td>\n",
       "      <td>NaN</td>\n",
       "      <td>NaN</td>\n",
       "      <td>NaN</td>\n",
       "      <td>NaN</td>\n",
       "      <td>NaN</td>\n",
       "      <td>NaN</td>\n",
       "      <td>NaN</td>\n",
       "      <td>NaN</td>\n",
       "      <td>NaN</td>\n",
       "      <td>NaN</td>\n",
       "      <td>NaN</td>\n",
       "      <td>NaN</td>\n",
       "      <td>NaN</td>\n",
       "      <td>NaN</td>\n",
       "      <td>NaN</td>\n",
       "      <td>Poland</td>\n",
       "    </tr>\n",
       "  </tbody>\n",
       "</table>\n",
       "</div>"
      ],
      "text/plain": [
       "                 222       333  333bf  333fm  333ft     333oh       444  \\\n",
       "id                                                                        \n",
       "2018BALA25  0.172118  0.124640    NaN    NaN    NaN  0.451401  0.264353   \n",
       "2017CADI02  0.175818  0.021964    NaN    NaN    NaN  0.342040  0.016976   \n",
       "2015MOWE01  0.177996  0.265347    NaN    NaN    NaN       NaN  0.692142   \n",
       "2016IVAN02       NaN  0.944905    NaN    NaN    NaN       NaN       NaN   \n",
       "2016YANG30  0.298283  0.339963    NaN    NaN    NaN       NaN       NaN   \n",
       "2015ZHAN45  0.662984  0.356692    NaN    NaN    NaN       NaN       NaN   \n",
       "2016MOSQ02  0.787486  0.520886    NaN    NaN    NaN       NaN       NaN   \n",
       "2015KSIA01       NaN  0.872343    NaN    NaN    NaN       NaN       NaN   \n",
       "\n",
       "            444bf       555  555bf       666  777  clock      minx     pyram  \\\n",
       "id                                                                             \n",
       "2018BALA25    NaN  0.487962    NaN       NaN  NaN    NaN  0.307751  0.208681   \n",
       "2017CADI02    NaN  0.051920    NaN  0.289294  NaN    NaN       NaN       NaN   \n",
       "2015MOWE01    NaN       NaN    NaN       NaN  NaN    NaN       NaN  0.445457   \n",
       "2016IVAN02    NaN       NaN    NaN       NaN  NaN    NaN       NaN       NaN   \n",
       "2016YANG30    NaN       NaN    NaN       NaN  NaN    NaN       NaN  0.608866   \n",
       "2015ZHAN45    NaN       NaN    NaN       NaN  NaN    NaN       NaN       NaN   \n",
       "2016MOSQ02    NaN       NaN    NaN       NaN  NaN    NaN       NaN       NaN   \n",
       "2015KSIA01    NaN       NaN    NaN       NaN  NaN    NaN       NaN       NaN   \n",
       "\n",
       "               skewb  sq1 countryId  \n",
       "id                                   \n",
       "2018BALA25       NaN  NaN   Romania  \n",
       "2017CADI02       NaN  NaN     Chile  \n",
       "2015MOWE01  0.430252  NaN       USA  \n",
       "2016IVAN02       NaN  NaN   Ukraine  \n",
       "2016YANG30  0.853886  NaN       USA  \n",
       "2015ZHAN45       NaN  NaN     China  \n",
       "2016MOSQ02       NaN  NaN  Colombia  \n",
       "2015KSIA01       NaN  NaN    Poland  "
      ]
     },
     "execution_count": 227,
     "metadata": {},
     "output_type": "execute_result"
    }
   ],
   "source": [
    "# We will begin by whittling down the persons table to just each person's WCA ID and \n",
    "# country of residence, and then we will use the WCA ID as the table's index.  First we must\n",
    "# load in the dataset with pandas. \n",
    "df_persons = pd.read_csv(\"WCA_export_Persons.tsv\", sep = '\\t', low_memory=False)\n",
    "\n",
    "# only retain the two columns from the persons table that we need.\n",
    "df_persons = df_persons[['id','countryId']]\n",
    "\n",
    "# pivot the original dataframe from long to wide format.  This will put it in a format closer to what we want for our \n",
    "# machine learning and analysis later on.  We'll just use their single world ranking for now and ignore their average\n",
    "# world ranking\n",
    "full_df = df.pivot(index = 'personId', columns = 'eventId', values = 'worldRank_single')\n",
    "full_df = pd.merge(full_df, df_persons, how = 'left', left_on = 'personId', right_on = 'id')\n",
    "full_df.set_index('id', inplace=True)\n",
    "\n",
    "# convert the values in the table to percentiles (really 1 minus the percentile) instead of raw rankings.  \n",
    "for event in full_df.columns[:-1]:\n",
    "    event_max = full_df[event].max()\n",
    "    full_df[event] = full_df[event] / event_max\n",
    "\n",
    "# full_df.replace(np.nan, 1.000001, inplace=True)\n",
    "\n",
    "# display part of the table\n",
    "full_df.sample(8, random_state = 7)"
   ]
  },
  {
   "cell_type": "code",
   "execution_count": 228,
   "metadata": {},
   "outputs": [
    {
     "name": "stdout",
     "output_type": "stream",
     "text": [
      "done accumulating\n"
     ]
    },
    {
     "data": {
      "text/plain": [
       "1.0"
      ]
     },
     "execution_count": 228,
     "metadata": {},
     "output_type": "execute_result"
    }
   ],
   "source": [
    "temp_df = full_df.copy()\n",
    "temp_df['sum'] = temp_df.drop('countryId', axis = 1).sum(axis = 1)\n",
    "# for id, row in temp_df.iterrows():\n",
    "#     sum = row[:-1].sum()\n",
    "#     temp_df.loc[id, 'sum'] = sum\n",
    "print(\"done accumulating\")\n",
    "for event in temp_df.columns[:-2]:\n",
    "    temp_df[event] = temp_df[event] / temp_df['sum']\n",
    "temp_df.loc['2012CALL01'].drop(['countryId', 'sum']).sum()"
   ]
  },
  {
   "cell_type": "code",
   "execution_count": 230,
   "metadata": {},
   "outputs": [
    {
     "name": "stdout",
     "output_type": "stream",
     "text": [
      "0.17309557159788816\n"
     ]
    }
   ],
   "source": [
    "from sklearn import tree\n",
    "from sklearn.model_selection import train_test_split\n",
    "temp_df.replace(np.nan, 1, inplace=True)\n",
    "\n",
    "clf = tree.DecisionTreeClassifier(max_depth = 17)\n",
    "y = temp_df.countryId\n",
    "X = temp_df.drop('countryId', axis = 1)\n",
    "\n",
    "X_train, X_test, y_train, y_test = train_test_split(X, y, test_size = 0.25, random_state = 2)\n",
    "\n",
    "clf = clf.fit(X_train, y_train)\n",
    "print(clf.score(X_test, y_test))\n"
   ]
  },
  {
   "cell_type": "code",
   "execution_count": 233,
   "metadata": {},
   "outputs": [
    {
     "data": {
      "text/plain": [
       "0.11895269906260102"
      ]
     },
     "execution_count": 233,
     "metadata": {},
     "output_type": "execute_result"
    }
   ],
   "source": [
    "from sklearn.neighbors import KNeighborsClassifier\n",
    "\n",
    "model = KNeighborsClassifier(n_neighbors=5)\n",
    "\n",
    "model.fit(X_train, y_train)\n",
    "\n",
    "model.score(X_test, y_test)"
   ]
  },
  {
   "cell_type": "code",
   "execution_count": 238,
   "metadata": {},
   "outputs": [
    {
     "name": "stderr",
     "output_type": "stream",
     "text": [
      "C:\\Users\\Jim\\anaconda3\\lib\\site-packages\\sklearn\\neural_network\\_multilayer_perceptron.py:500: ConvergenceWarning: lbfgs failed to converge (status=1):\n",
      "STOP: TOTAL NO. of ITERATIONS REACHED LIMIT.\n",
      "\n",
      "Increase the number of iterations (max_iter) or scale the data as shown in:\n",
      "    https://scikit-learn.org/stable/modules/preprocessing.html\n",
      "  self.n_iter_ = _check_optimize_result(\"lbfgs\", opt_res, self.max_iter)\n"
     ]
    },
    {
     "data": {
      "text/plain": [
       "0.1978504471500916"
      ]
     },
     "execution_count": 238,
     "metadata": {},
     "output_type": "execute_result"
    }
   ],
   "source": [
    "from sklearn.neural_network import MLPClassifier\n",
    "\n",
    "X_sub_train = X_train[0:10000]\n",
    "y_sub_train = y_train[0:10000]\n",
    "\n",
    "X_sub_test = X_test[0:2000]\n",
    "y_sub_test = y_test[0:2000]\n",
    "\n",
    "clf = MLPClassifier(solver='lbfgs', alpha=1e-5, hidden_layer_sizes=(5, 2), random_state=1)\n",
    "clf.fit(X_sub_train, y_sub_train)\n",
    "clf.score(X_sub_test, y_sub_test)"
   ]
  }
 ],
 "metadata": {
  "interpreter": {
   "hash": "efce27152586e9e4e1b41b495b4d0136dd7482a1571b8fc2944bb70af85b563c"
  },
  "kernelspec": {
   "display_name": "Python 3.8.8 64-bit ('base': conda)",
   "language": "python",
   "name": "python3"
  },
  "language_info": {
   "codemirror_mode": {
    "name": "ipython",
    "version": 3
   },
   "file_extension": ".py",
   "mimetype": "text/x-python",
   "name": "python",
   "nbconvert_exporter": "python",
   "pygments_lexer": "ipython3",
   "version": "3.8.8"
  },
  "orig_nbformat": 4
 },
 "nbformat": 4,
 "nbformat_minor": 2
}
